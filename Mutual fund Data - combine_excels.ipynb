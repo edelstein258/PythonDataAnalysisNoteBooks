{
  "nbformat": 4,
  "nbformat_minor": 0,
  "metadata": {
    "colab": {
      "name": "combine excels",
      "provenance": [],
      "collapsed_sections": []
    },
    "kernelspec": {
      "name": "python3",
      "display_name": "Python 3"
    }
  },
  "cells": [
    {
      "cell_type": "code",
      "metadata": {
        "id": "RI6HFbTt2GEM",
        "colab_type": "code",
        "colab": {
          "base_uri": "https://localhost:8080/",
          "height": 340
        },
        "outputId": "640285c9-7a64-4cdb-930c-c1058ab3689d"
      },
      "source": [
        "!pip install patool\n",
        "!pip install ta"
      ],
      "execution_count": null,
      "outputs": [
        {
          "output_type": "stream",
          "text": [
            "Collecting patool\n",
            "\u001b[?25l  Downloading https://files.pythonhosted.org/packages/43/94/52243ddff508780dd2d8110964320ab4851134a55ab102285b46e740f76a/patool-1.12-py2.py3-none-any.whl (77kB)\n",
            "\r\u001b[K     |████▎                           | 10kB 16.6MB/s eta 0:00:01\r\u001b[K     |████████▌                       | 20kB 1.6MB/s eta 0:00:01\r\u001b[K     |████████████▊                   | 30kB 1.9MB/s eta 0:00:01\r\u001b[K     |█████████████████               | 40kB 2.1MB/s eta 0:00:01\r\u001b[K     |█████████████████████▏          | 51kB 2.0MB/s eta 0:00:01\r\u001b[K     |█████████████████████████▍      | 61kB 2.2MB/s eta 0:00:01\r\u001b[K     |█████████████████████████████▋  | 71kB 2.4MB/s eta 0:00:01\r\u001b[K     |████████████████████████████████| 81kB 2.2MB/s \n",
            "\u001b[?25hInstalling collected packages: patool\n",
            "Successfully installed patool-1.12\n",
            "Collecting ta\n",
            "  Downloading https://files.pythonhosted.org/packages/90/ec/e4f5aea8c7f0f55f92b52ffbafa389ea82f3a10d9cab2760e40af34c5b3f/ta-0.5.25.tar.gz\n",
            "Requirement already satisfied: numpy in /usr/local/lib/python3.6/dist-packages (from ta) (1.18.5)\n",
            "Requirement already satisfied: pandas in /usr/local/lib/python3.6/dist-packages (from ta) (1.0.5)\n",
            "Requirement already satisfied: pytz>=2017.2 in /usr/local/lib/python3.6/dist-packages (from pandas->ta) (2018.9)\n",
            "Requirement already satisfied: python-dateutil>=2.6.1 in /usr/local/lib/python3.6/dist-packages (from pandas->ta) (2.8.1)\n",
            "Requirement already satisfied: six>=1.5 in /usr/local/lib/python3.6/dist-packages (from python-dateutil>=2.6.1->pandas->ta) (1.12.0)\n",
            "Building wheels for collected packages: ta\n",
            "  Building wheel for ta (setup.py) ... \u001b[?25l\u001b[?25hdone\n",
            "  Created wheel for ta: filename=ta-0.5.25-cp36-none-any.whl size=24880 sha256=4796d9dcff2d1a04d420a5cc5f1b14fd5c8219d2f564e567fd1d90e237b11dee\n",
            "  Stored in directory: /root/.cache/pip/wheels/2e/93/b7/cf649194508e53cee4145ffb949e9f26877a5a8dd12db9ed5b\n",
            "Successfully built ta\n",
            "Installing collected packages: ta\n",
            "Successfully installed ta-0.5.25\n"
          ],
          "name": "stdout"
        }
      ]
    },
    {
      "cell_type": "markdown",
      "metadata": {
        "id": "L4Oq7O2YT3s-",
        "colab_type": "text"
      },
      "source": [
        "## Removing the existing file and folder of same name\n",
        "Its a good practice to check for files and delete when you getting a file from some other location and adding it in the current used directory."
      ]
    },
    {
      "cell_type": "code",
      "metadata": {
        "id": "c9QtxnQ1NyqR",
        "colab_type": "code",
        "colab": {}
      },
      "source": [
        "%rm -rf 'MF NAV DATA'\n",
        "%rm 'MF NAV DATA.rar'"
      ],
      "execution_count": null,
      "outputs": []
    },
    {
      "cell_type": "markdown",
      "metadata": {
        "id": "mSIvBwp-USAb",
        "colab_type": "text"
      },
      "source": [
        "## Uploading the file, or better can import from Drive"
      ]
    },
    {
      "cell_type": "code",
      "metadata": {
        "id": "HM1lQMtH1wNe",
        "colab_type": "code",
        "colab": {
          "resources": {
            "http://localhost:8080/nbextensions/google.colab/files.js": {
              "data": "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",
              "ok": true,
              "headers": [
                [
                  "content-type",
                  "application/javascript"
                ]
              ],
              "status": 200,
              "status_text": ""
            }
          },
          "base_uri": "https://localhost:8080/",
          "height": 72
        },
        "outputId": "c6432511-7b4b-4015-8299-5742bb7e2d2f"
      },
      "source": [
        "from google.colab import files\n",
        "uploaded = files.upload()"
      ],
      "execution_count": null,
      "outputs": [
        {
          "output_type": "display_data",
          "data": {
            "text/html": [
              "\n",
              "     <input type=\"file\" id=\"files-f268beac-cc98-46ae-b057-550303714e3f\" name=\"files[]\" multiple disabled\n",
              "        style=\"border:none\" />\n",
              "     <output id=\"result-f268beac-cc98-46ae-b057-550303714e3f\">\n",
              "      Upload widget is only available when the cell has been executed in the\n",
              "      current browser session. Please rerun this cell to enable.\n",
              "      </output>\n",
              "      <script src=\"/nbextensions/google.colab/files.js\"></script> "
            ],
            "text/plain": [
              "<IPython.core.display.HTML object>"
            ]
          },
          "metadata": {
            "tags": []
          }
        },
        {
          "output_type": "stream",
          "text": [
            "Saving MF NAV DATA.rar to MF NAV DATA.rar\n"
          ],
          "name": "stdout"
        }
      ]
    },
    {
      "cell_type": "code",
      "metadata": {
        "id": "JL8F81WUruoN",
        "colab_type": "code",
        "colab": {}
      },
      "source": [
        "!cd .."
      ],
      "execution_count": null,
      "outputs": []
    },
    {
      "cell_type": "markdown",
      "metadata": {
        "id": "7fHdv1jGUmIW",
        "colab_type": "text"
      },
      "source": [
        "### Extracting RAR file"
      ]
    },
    {
      "cell_type": "code",
      "metadata": {
        "id": "xTNhxHQG2ITk",
        "colab_type": "code",
        "colab": {
          "base_uri": "https://localhost:8080/",
          "height": 103
        },
        "outputId": "d80da2a7-4eb4-4861-cece-db880c24f594"
      },
      "source": [
        "import patoolib\n",
        "patoolib.extract_archive(\"MF NAV DATA.rar\")"
      ],
      "execution_count": null,
      "outputs": [
        {
          "output_type": "stream",
          "text": [
            "patool: Extracting MF NAV DATA.rar ...\n",
            "patool: running /usr/bin/unrar x -- \"/content/MF NAV DATA.rar\"\n",
            "patool:     with cwd='./Unpack_5z5rv795'\n",
            "patool: ... MF NAV DATA.rar extracted to `MF NAV DATA'.\n"
          ],
          "name": "stdout"
        },
        {
          "output_type": "execute_result",
          "data": {
            "application/vnd.google.colaboratory.intrinsic": {
              "type": "string"
            },
            "text/plain": [
              "'MF NAV DATA'"
            ]
          },
          "metadata": {
            "tags": []
          },
          "execution_count": 3
        }
      ]
    },
    {
      "cell_type": "code",
      "metadata": {
        "id": "9bMexcT-2QWV",
        "colab_type": "code",
        "colab": {
          "base_uri": "https://localhost:8080/",
          "height": 34
        },
        "outputId": "bb43352a-e1a7-450b-f8c0-beab150bc257"
      },
      "source": [
        "!ls # 'MF NAV DATA'"
      ],
      "execution_count": null,
      "outputs": [
        {
          "output_type": "stream",
          "text": [
            "'MF NAV DATA'  'MF NAV DATA.rar'   sample_data\n"
          ],
          "name": "stdout"
        }
      ]
    },
    {
      "cell_type": "code",
      "metadata": {
        "id": "jOhXRnBZAybv",
        "colab_type": "code",
        "colab": {}
      },
      "source": [
        "from pathlib import Path\n",
        "import glob\n",
        "import os\n",
        "\n",
        "from ta.momentum import rsi\n",
        "from ta.trend import ema_indicator as ema\n",
        "\n",
        "import requests \n",
        "import pandas as pd\n",
        "import logging\n",
        "\n",
        "from datetime import datetime, timedelta"
      ],
      "execution_count": null,
      "outputs": []
    },
    {
      "cell_type": "code",
      "metadata": {
        "id": "a-4Ff8IxISDu",
        "colab_type": "code",
        "colab": {
          "base_uri": "https://localhost:8080/",
          "height": 35
        },
        "outputId": "8e0339f0-77bd-4a72-88a0-02d865023396"
      },
      "source": [
        "p = Path(r'MF NAV DATA')\n",
        "\n",
        "# Checking for files\n",
        "'''filecount=0\n",
        "for f in p.glob('*/*'):\n",
        "  filecount+=1\n",
        "  print(os.path.basename(f))\n",
        "print(filecount)'''"
      ],
      "execution_count": null,
      "outputs": [
        {
          "output_type": "execute_result",
          "data": {
            "application/vnd.google.colaboratory.intrinsic": {
              "type": "string"
            },
            "text/plain": [
              "\"filecount=0\\nfor f in p.glob('*/*'):\\n  filecount+=1\\n  print(os.path.basename(f))\\nprint(filecount)\""
            ]
          },
          "metadata": {
            "tags": []
          },
          "execution_count": 5
        }
      ]
    },
    {
      "cell_type": "markdown",
      "metadata": {
        "id": "MffpHQmeU7yR",
        "colab_type": "text"
      },
      "source": [
        "### Its easy to work with CSV and converting to CSV\n",
        "Also a good check type of file"
      ]
    },
    {
      "cell_type": "code",
      "metadata": {
        "id": "9IhFe1VTtVsk",
        "colab_type": "code",
        "colab": {}
      },
      "source": [
        "#############################################################\n",
        "## Convert XLSX to CSV\n",
        "#############################################################\n",
        "\n",
        "for f in p.glob('*/*'):\n",
        "  if(f.suffix == '.csv'):\n",
        "    df = pd.read_csv(f, skiprows=2)\n",
        "  else:\n",
        "    df = pd.read_excel(f, header=0) #, sheetname='<your sheet>'\n",
        "    \n",
        "    df.to_csv(f.with_suffix('.csv'), index=False, quotechar=\"'\")\n",
        "    os.remove(f)"
      ],
      "execution_count": null,
      "outputs": []
    },
    {
      "cell_type": "code",
      "metadata": {
        "id": "goSEz33Xjc9P",
        "colab_type": "code",
        "colab": {}
      },
      "source": [
        "import shutil\n",
        "!ls\n",
        "zip_name = '../NAV Historical Data CSV'\n",
        "directory_name = '../NAV Historical Data'\n",
        "\n",
        "# Create 'path\\to\\zip_file.zip'\n",
        "shutil.make_archive(zip_name, 'zip', directory_name)"
      ],
      "execution_count": null,
      "outputs": []
    },
    {
      "cell_type": "code",
      "metadata": {
        "id": "ZNrDPDbAVND1",
        "colab_type": "code",
        "colab": {}
      },
      "source": [
        "## Combing all the CSV file into One"
      ],
      "execution_count": null,
      "outputs": []
    },
    {
      "cell_type": "code",
      "metadata": {
        "id": "KBqZdfg11KRW",
        "colab_type": "code",
        "colab": {
          "base_uri": "https://localhost:8080/",
          "height": 1000
        },
        "outputId": "20d4c0f2-dd89-41fc-ade7-d4a68896a30c"
      },
      "source": [
        "p = Path(r'MF NAV DATA')\n",
        "dfList = []\n",
        "df = pd.DataFrame()\n",
        "for f in p.glob('*/*'):\n",
        "  print(f)\n",
        "  df = pd.read_csv(f,skiprows=2)\n",
        "  if(len(df.columns)>3):\n",
        "    #print(os.path.basename(f))\n",
        "    df.columns = ['amfi', 'date', 'price', 'extra']\n",
        "    df = df.loc[:,:'price']\n",
        "    \n",
        "  else:\n",
        "    df.columns = ['amfi', 'date', 'price']\n",
        "  df['date']= pd.to_datetime(df['date'])\n",
        "  print(df.amfi[0], ',', os.path.basename(f), ',', df.shape)\n",
        "  dfList.append(df)"
      ],
      "execution_count": null,
      "outputs": [
        {
          "output_type": "stream",
          "text": [
            "MF NAV DATA/Focused Fund/ICICI Pru Focused Equity Fund(G).csv\n",
            "111957 , ICICI Pru Focused Equity Fund(G).csv , (2716, 3)\n",
            "MF NAV DATA/Focused Fund/Aditya Birla SL Focused Equity Fund(G).csv\n",
            "103309 , Aditya Birla SL Focused Equity Fund(G).csv , (3596, 3)\n",
            "MF NAV DATA/Focused Fund/Principal Focused Multicap Fund(G).csv\n",
            "103335 , Principal Focused Multicap Fund(G).csv , (3581, 3)\n",
            "MF NAV DATA/Focused Fund/Union Focused Fund-Reg(G).csv\n",
            "147490 , Union Focused Fund-Reg(G).csv , (202, 3)\n",
            "MF NAV DATA/Focused Fund/L&T Focused Equity Fund-Reg(G).csv\n",
            "145378 , L&T Focused Equity Fund-Reg(G).csv , (388, 3)\n",
            "MF NAV DATA/Focused Fund/IDFC Focused Equity Fund-Reg(G).csv\n",
            "108592 , IDFC Focused Equity Fund-Reg(G).csv , (3504, 3)\n",
            "MF NAV DATA/Focused Fund/Nippon India Focused Equity Fund(G).csv\n",
            "104637 , Nippon India Focused Equity Fund(G).csv , (3308, 3)\n",
            "MF NAV DATA/Focused Fund/Franklin India Focused Equity Fund(G).csv\n",
            "105817 , Franklin India Focused Equity Fund(G).csv , (3162, 3)\n",
            "MF NAV DATA/Focused Fund/HDFC Focused 30 Fund(G).csv\n",
            "102760 , HDFC Focused 30 Fund(G).csv , (3870, 3)\n",
            "MF NAV DATA/Focused Fund/IDBI Focused 30 Equity Fund-Reg(G).csv\n",
            "141919 , IDBI Focused 30 Equity Fund-Reg(G).csv , (624, 3)\n",
            "MF NAV DATA/Focused Fund/IIFL Focused Equity Fund-Reg(G).csv\n",
            "131578 , IIFL Focused Equity Fund-Reg(G).csv , (1379, 3)\n",
            "MF NAV DATA/Focused Fund/Axis Focused 25 Fund-Reg(G).csv\n",
            "117560 , Axis Focused 25 Fund-Reg(G).csv , (1946, 3)\n",
            "MF NAV DATA/Focused Fund/Tata Focused Equity Fund-Reg(G).csv\n",
            "147760 , Tata Focused Equity Fund-Reg(G).csv , (127, 3)\n",
            "MF NAV DATA/Focused Fund/SBI Focused Equity Fund-Reg(G).csv\n",
            "102756 , SBI Focused Equity Fund-Reg(G).csv , (3825, 3)\n",
            "MF NAV DATA/Focused Fund/Motilal Oswal Focused 25 Fund-Reg(G).csv\n",
            "122387 , Motilal Oswal Focused 25 Fund-Reg(G).csv , (1737, 3)\n",
            "MF NAV DATA/Focused Fund/BNP Paribas Focused 25 Equity Fund-Reg(G).csv\n",
            "141812 , BNP Paribas Focused 25 Equity Fund-Reg(G).csv , (656, 3)\n",
            "MF NAV DATA/Focused Fund/DSP Focus Fund-Reg(G).csv\n",
            "112901 , DSP Focus Fund-Reg(G).csv , (2461, 3)\n",
            "MF NAV DATA/Focused Fund/JM Core 11 Fund(G).csv\n",
            "107410 , JM Core 11 Fund(G).csv , (2431, 3)\n",
            "MF NAV DATA/Focused Fund/Sundaram Select Focus(G).csv\n",
            "101537 , Sundaram Select Focus(G).csv , (4391, 3)\n",
            "MF NAV DATA/Focused Fund/Quant Focused Fund(G).csv\n",
            "109275 , Quant Focused Fund(G).csv , (2893, 3)\n",
            "MF NAV DATA/Focused Fund/Mirae Asset Focused Fund-Reg(G).csv\n",
            "147203 , Mirae Asset Focused Fund-Reg(G).csv , (263, 3)\n",
            "MF NAV DATA/Focused Fund/Kotak Focused Equity Fund-Reg(G).csv\n",
            "147477 , Kotak Focused Equity Fund-Reg(G).csv , (215, 3)\n",
            "MF NAV DATA/Global Fund/Aditya Birla SL CEF-Global Agri-Reg(G).csv\n",
            "111349 , Aditya Birla SL CEF-Global Agri-Reg(G).csv , (2845, 3)\n",
            "MF NAV DATA/Global Fund/Franklin Asian Equity Fund(G).csv\n",
            "106979 , Franklin Asian Equity Fund(G).csv , (3043, 3)\n",
            "MF NAV DATA/Global Fund/Nippon India Japan Equity Fund(G).csv\n",
            "130863 , Nippon India Japan Equity Fund(G).csv , (1359, 3)\n",
            "MF NAV DATA/Global Fund/Motilal Oswal S&P 500 Index Fund-Reg(G).csv\n",
            "148382 , Motilal Oswal S&P 500 Index Fund-Reg(G).csv , (31, 3)\n",
            "MF NAV DATA/Global Fund/Nippon India US Equity Opp Fund(G).csv\n",
            "134922 , Nippon India US Equity Opp Fund(G).csv , (1166, 3)\n",
            "MF NAV DATA/Global Fund/Aditya Birla SL Intl. Equity Fund-B(G).csv\n",
            "106876 , Aditya Birla SL Intl. Equity Fund-B(G).csv , (3089, 3)\n",
            "MF NAV DATA/Global Fund/ICICI Pru US Bluechip Equity Fund(G).csv\n",
            "117620 , ICICI Pru US Bluechip Equity Fund(G).csv , (1881, 3)\n",
            "MF NAV DATA/Global Fund/Aditya Birla SL Intl. Equity Fund-A(G).csv\n",
            "106873 , Aditya Birla SL Intl. Equity Fund-A(G).csv , (3089, 3)\n",
            "MF NAV DATA/Contra & Dividend Yield/Templeton India Equity Income Fund(G).csv\n",
            "103678 , Templeton India Equity Income Fund(G).csv , (3455, 3)\n",
            "MF NAV DATA/Contra & Dividend Yield/IDBI Dividend Yield Fund-Reg(G).csv\n",
            "145747 , IDBI Dividend Yield Fund-Reg(G).csv , (355, 3)\n",
            "MF NAV DATA/Contra & Dividend Yield/SBI Contra Fund-Reg(G).csv\n",
            "102414 , SBI Contra Fund-Reg(G).csv , (5115, 3)\n",
            "MF NAV DATA/Contra & Dividend Yield/Principal Dividend Yield Fund(G).csv\n",
            "102807 , Principal Dividend Yield Fund(G).csv , (3845, 3)\n",
            "MF NAV DATA/Contra & Dividend Yield/ICICI Pru Dividend Yield Equity Fund(G).csv\n",
            "129310 , ICICI Pru Dividend Yield Equity Fund(G).csv , (1490, 3)\n",
            "MF NAV DATA/Contra & Dividend Yield/Invesco India Contra Fund(G).csv\n",
            "105460 , Invesco India Contra Fund(G).csv , (3230, 3)\n",
            "MF NAV DATA/Contra & Dividend Yield/UTI Dividend Yield Fund-Reg(G).csv\n",
            "103026 , UTI Dividend Yield Fund-Reg(G).csv , (3693, 3)\n",
            "MF NAV DATA/Contra & Dividend Yield/Kotak India EQ Contra Fund(G).csv\n",
            "103040 , Kotak India EQ Contra Fund(G).csv , (3659, 3)\n",
            "MF NAV DATA/Contra & Dividend Yield/Aditya Birla SL Dividend Yield Fund(G).csv\n",
            "101738 , Aditya Birla SL Dividend Yield Fund(G).csv , (4268, 3)\n",
            "MF NAV DATA/Smallcap Fund/Axis Small Cap Fund-Reg(G).csv\n",
            "125350 , Axis Small Cap Fund-Reg(G).csv , (1598, 3)\n",
            "MF NAV DATA/Smallcap Fund/Invesco India Smallcap Fund-Reg(G).csv\n",
            "145139 , Invesco India Smallcap Fund-Reg(G).csv , (393, 3)\n",
            "MF NAV DATA/Smallcap Fund/HSBC Small Cap Equity Fund(G).csv\n",
            "103006 , HSBC Small Cap Equity Fund(G).csv , (3702, 3)\n",
            "MF NAV DATA/Smallcap Fund/Nippon India Small Cap Fund(G).csv\n",
            "113177 , Nippon India Small Cap Fund(G).csv , (2394, 3)\n",
            "MF NAV DATA/Smallcap Fund/Quant Small Cap Fund(G).csv\n",
            "100177 , Quant Small Cap Fund(G).csv , (4962, 3)\n",
            "MF NAV DATA/Smallcap Fund/Union Small Cap Fund-Reg(G).csv\n",
            "129647 , Union Small Cap Fund-Reg(G).csv , (1468, 3)\n",
            "MF NAV DATA/Smallcap Fund/HDFC Small Cap Fund-Reg(G).csv\n",
            "130502 , HDFC Small Cap Fund-Reg(G).csv , (2987, 3)\n",
            "MF NAV DATA/Smallcap Fund/L&T Emerging Businesses Fund-Reg(G).csv\n",
            "129223 , L&T Emerging Businesses Fund-Reg(G).csv , (1493, 3)\n",
            "MF NAV DATA/Smallcap Fund/DSP Small Cap Fund-Reg(G).csv\n",
            "105989 , DSP Small Cap Fund-Reg(G).csv , (2659, 3)\n",
            "MF NAV DATA/Smallcap Fund/Canara Rob Small Cap Fund-Reg(G).csv\n",
            "146127 , Canara Rob Small Cap Fund-Reg(G).csv , (319, 3)\n",
            "MF NAV DATA/Smallcap Fund/Sundaram Small Cap Fund(G).csv\n",
            "100795 , Sundaram Small Cap Fund(G).csv , (3767, 3)\n",
            "MF NAV DATA/Smallcap Fund/IDBI Small Cap Fund(G).csv\n",
            "141462 , IDBI Small Cap Fund(G).csv , (725, 3)\n",
            "MF NAV DATA/Smallcap Fund/Edelweiss Small Cap Fund-Reg(G).csv\n",
            "146193 , Edelweiss Small Cap Fund-Reg(G).csv , (323, 3)\n",
            "MF NAV DATA/Smallcap Fund/Kotak Small Cap Fund(G).csv\n",
            "102875 , Kotak Small Cap Fund(G).csv , (3770, 3)\n",
            "MF NAV DATA/Smallcap Fund/Principal Small Cap Fund-Reg(G).csv\n",
            "147129 , Principal Small Cap Fund-Reg(G).csv , (265, 3)\n",
            "MF NAV DATA/Smallcap Fund/Tata Small Cap Fund-Reg(G).csv\n",
            "145208 , Tata Small Cap Fund-Reg(G).csv , (387, 3)\n",
            "MF NAV DATA/Smallcap Fund/ICICI Pru Smallcap Fund(G).csv\n",
            "106823 , ICICI Pru Smallcap Fund(G).csv , (3054, 3)\n",
            "MF NAV DATA/Smallcap Fund/BOI AXA Small Cap Fund-Reg(G).csv\n",
            "145677 , BOI AXA Small Cap Fund-Reg(G).csv , (358, 3)\n",
            "MF NAV DATA/Smallcap Fund/Aditya Birla SL Small Cap Fund(G).csv\n",
            "105804 , Aditya Birla SL Small Cap Fund(G).csv , (3200, 3)\n",
            "MF NAV DATA/Smallcap Fund/SBI Small Cap Fund-Reg(G).csv\n",
            "125494 , SBI Small Cap Fund-Reg(G).csv , (2641, 3)\n",
            "MF NAV DATA/Smallcap Fund/Franklin India Smaller Cos Fund(G).csv\n",
            "103360 , Franklin India Smaller Cos Fund(G).csv , (3542, 3)\n",
            "MF NAV DATA/Smallcap Fund/IDFC Emerging Businesses Fund-Reg(G).csv\n",
            "147944 , IDFC Emerging Businesses Fund-Reg(G).csv , (71, 3)\n",
            "MF NAV DATA/Smallcap Fund/ITI Small Cap Fund-Reg(G).csv\n",
            "147920 , ITI Small Cap Fund-Reg(G).csv , (75, 3)\n",
            "MF NAV DATA/Large & Midcap Fund/SBI Large & Midcap Fund-Reg(G).csv\n",
            "103024 , SBI Large & Midcap Fund-Reg(G).csv , (5617, 3)\n",
            "MF NAV DATA/Large & Midcap Fund/Kotak Equity Opp Fund(G).csv\n",
            "103234 , Kotak Equity Opp Fund(G).csv , (3875, 3)\n",
            "MF NAV DATA/Large & Midcap Fund/Motilal Oswal Large & Midcap Fund-Reg(G).csv\n",
            "147701 , Motilal Oswal Large & Midcap Fund-Reg(G).csv , (158, 3)\n",
            "MF NAV DATA/Large & Midcap Fund/Edelweiss Large & Mid Cap Fund-Reg(G).csv\n",
            "140172 , Edelweiss Large & Mid Cap Fund-Reg(G).csv , (3195, 3)\n",
            "MF NAV DATA/Large & Midcap Fund/Tata Large & Mid Cap Fund(G).csv\n",
            "101824 , Tata Large & Mid Cap Fund(G).csv , (4590, 3)\n",
            "MF NAV DATA/Large & Midcap Fund/Sundaram Large and Mid Cap Fund(G).csv\n",
            "105001 , Sundaram Large and Mid Cap Fund(G).csv , (3247, 3)\n",
            "MF NAV DATA/Large & Midcap Fund/Canara Rob Emerg Equities Fund-Reg(G).csv\n",
            "102920 , Canara Rob Emerg Equities Fund-Reg(G).csv , (3744, 3)\n",
            "MF NAV DATA/Large & Midcap Fund/Quant Large & Mid Cap Fund(G).csv\n",
            "104513 , Quant Large & Mid Cap Fund(G).csv , (3297, 3)\n",
            "MF NAV DATA/Large & Midcap Fund/Mirae Asset Emerging Bluechip-Reg(G).csv\n",
            "112932 , Mirae Asset Emerging Bluechip-Reg(G).csv , (2443, 3)\n",
            "MF NAV DATA/Large & Midcap Fund/Franklin India Equity Advantage Fund(G).csv\n",
            "102883 , Franklin India Equity Advantage Fund(G).csv , (3752, 3)\n",
            "MF NAV DATA/Large & Midcap Fund/HDFC Growth Opp Fund-Reg(G).csv\n",
            "130496 , HDFC Growth Opp Fund-Reg(G).csv , (5051, 3)\n",
            "MF NAV DATA/Large & Midcap Fund/BOI AXA Large & Mid Cap Equity Fund-Reg(G).csv\n",
            "110603 , BOI AXA Large & Mid Cap Equity Fund-Reg(G).csv , (2855, 3)\n",
            "MF NAV DATA/Large & Midcap Fund/Nippon India Vision Fund(G).csv\n",
            "100380 , Nippon India Vision Fund(G).csv , (6272, 3)\n",
            "MF NAV DATA/Large & Midcap Fund/LIC MF Large & Midcap Fund-Reg(G).csv\n",
            "133711 , LIC MF Large & Midcap Fund-Reg(G).csv , (1301, 3)\n",
            "MF NAV DATA/Large & Midcap Fund/Union Large & Midcap Fund-Reg(G).csv\n",
            "147748 , Union Large & Midcap Fund-Reg(G).csv , (122, 3)\n",
            "MF NAV DATA/Large & Midcap Fund/UTI Core Equity Fund-Reg(G).csv\n",
            "100664 , UTI Core Equity Fund-Reg(G).csv , (2720, 3)\n",
            "MF NAV DATA/Large & Midcap Fund/Principal Emerging Bluechip Fund(G).csv\n",
            "111381 , Principal Emerging Bluechip Fund(G).csv , (2841, 3)\n",
            "MF NAV DATA/Large & Midcap Fund/HSBC Large & Mid Cap Equity Fund-Reg(G).csv\n",
            "146771 , HSBC Large & Mid Cap Equity Fund-Reg(G).csv , (289, 3)\n",
            "MF NAV DATA/Large & Midcap Fund/IDFC Core Equity Fund-Reg(G).csv\n",
            "108596 , IDFC Core Equity Fund-Reg(G).csv , (3649, 3)\n",
            "MF NAV DATA/Large & Midcap Fund/Invesco India Growth Opp Fund(G).csv\n",
            "106144 , Invesco India Growth Opp Fund(G).csv , (3148, 3)\n",
            "MF NAV DATA/Large & Midcap Fund/L&T Large and Midcap Fund-Reg(G).csv\n",
            "118049 , L&T Large and Midcap Fund-Reg(G).csv , (3457, 3)\n",
            "MF NAV DATA/Large & Midcap Fund/Aditya Birla SL Equity Advantage Fund(G).csv\n",
            "100033 , Aditya Birla SL Equity Advantage Fund(G).csv , (6448, 3)\n",
            "MF NAV DATA/Large & Midcap Fund/Essel Large & Midcap Fund-Reg(G).csv\n",
            "135678 , Essel Large & Midcap Fund-Reg(G).csv , (1109, 3)\n",
            "MF NAV DATA/Large & Midcap Fund/ICICI Pru Large & Mid Cap Fund(G).csv\n",
            "100349 , ICICI Pru Large & Mid Cap Fund(G).csv , (5414, 3)\n",
            "MF NAV DATA/Large & Midcap Fund/Axis Growth Opp Fund-Reg(G).csv\n",
            "145112 , Axis Growth Opp Fund-Reg(G).csv , (397, 3)\n",
            "MF NAV DATA/Large & Midcap Fund/DSP Equity Opportunities Fund-Reg(G).csv\n",
            "103819 , DSP Equity Opportunities Fund-Reg(G).csv , (4961, 3)\n",
            "MF NAV DATA/ELSS Fund/Motilal Oswal Long Term Equity Fund-Reg(G).csv\n",
            "133385 , Motilal Oswal Long Term Equity Fund-Reg(G).csv , (1323, 3)\n",
            "MF NAV DATA/ELSS Fund/Parag Parikh Tax Saver Fund-Reg(G).csv\n",
            "147482 , Parag Parikh Tax Saver Fund-Reg(G).csv , (214, 3)\n",
            "MF NAV DATA/ELSS Fund/Union Long Term Equity Fund(G).csv\n",
            "116051 , Union Long Term Equity Fund(G).csv , (2075, 3)\n",
            "MF NAV DATA/ELSS Fund/Mirae Asset Tax Saver Fund-Reg(G).csv\n",
            "135784 , Mirae Asset Tax Saver Fund-Reg(G).csv , (1096, 3)\n",
            "MF NAV DATA/ELSS Fund/IDBI Equity Advantage Fund-Reg(G).csv\n",
            "123638 , IDBI Equity Advantage Fund-Reg(G).csv , (1651, 3)\n",
            "MF NAV DATA/ELSS Fund/HDFC Long Term Adv Fund(G).csv\n",
            "100998 , HDFC Long Term Adv Fund(G).csv , (4791, 3)\n",
            "MF NAV DATA/ELSS Fund/L&T Tax Advt Fund-Reg(G).csv\n",
            "118047 , L&T Tax Advt Fund-Reg(G).csv , (3512, 3)\n",
            "MF NAV DATA/ELSS Fund/HSBC Tax Saver Equity Fund(G).csv\n",
            "104707 , HSBC Tax Saver Equity Fund(G).csv , (3292, 3)\n",
            "MF NAV DATA/ELSS Fund/BNP Paribas Long Term Equity Fund(G).csv\n",
            "113463 , BNP Paribas Long Term Equity Fund(G).csv , (3545, 3)\n",
            "MF NAV DATA/ELSS Fund/UTI LT Equity Fund (Tax Saving)-Reg(G).csv\n",
            "100821 , UTI LT Equity Fund (Tax Saving)-Reg(G).csv , (3649, 3)\n",
            "MF NAV DATA/ELSS Fund/Indiabulls Tax Savings Fund-Reg(G).csv\n",
            "141862 , Indiabulls Tax Savings Fund-Reg(G).csv , (601, 3)\n",
            "MF NAV DATA/ELSS Fund/Nippon India Tax Saver (ELSS) Fund(G).csv\n",
            "103196 , Nippon India Tax Saver (ELSS) Fund(G).csv , (3690, 3)\n",
            "MF NAV DATA/ELSS Fund/Kotak Tax Saver Fund(G).csv\n",
            "103339 , Kotak Tax Saver Fund(G).csv , (3581, 3)\n",
            "MF NAV DATA/ELSS Fund/IDFC Tax Advt(ELSS) Fund-Reg(G).csv\n",
            "111569 , IDFC Tax Advt(ELSS) Fund-Reg(G).csv , (2817, 3)\n",
            "MF NAV DATA/ELSS Fund/Tata India Tax Savings Fund-Reg(G).csv\n",
            "132757 , Tata India Tax Savings Fund-Reg(G).csv , (1390, 3)\n",
            "MF NAV DATA/ELSS Fund/HDFC TaxSaver(G).csv\n",
            "101979 , HDFC TaxSaver(G).csv , (5957, 3)\n",
            "MF NAV DATA/ELSS Fund/Quant Tax Plan(G).csv\n",
            "100175 , Quant Tax Plan(G).csv , (4947, 3)\n",
            "MF NAV DATA/ELSS Fund/Canara Rob Equity Tax Saver Fund-Reg(G).csv\n",
            "111722 , Canara Rob Equity Tax Saver Fund-Reg(G).csv , (2788, 3)\n",
            "MF NAV DATA/ELSS Fund/DHFL Pramerica Tax Plan(G).csv\n",
            "138391 , DHFL Pramerica Tax Plan(G).csv , (3288, 3)\n",
            "MF NAV DATA/ELSS Fund/ICICI Pru LT Equity Fund (Tax Saving)(G).csv\n",
            "100354 , ICICI Pru LT Equity Fund (Tax Saving)(G).csv , (5126, 3)\n",
            "MF NAV DATA/ELSS Fund/Aditya Birla SL Tax Relief '96(G).csv\n",
            "107745 , Aditya Birla SL Tax Relief '96(G).csv , (3008, 3)\n",
            "MF NAV DATA/ELSS Fund/BOI AXA Tax Advantage Fund-Reg(G).csv\n",
            "111710 , BOI AXA Tax Advantage Fund-Reg(G).csv , (2775, 3)\n",
            "MF NAV DATA/ELSS Fund/Aditya Birla SL Tax Plan(G).csv\n",
            "104331 , Aditya Birla SL Tax Plan(G).csv , (3366, 3)\n",
            "MF NAV DATA/ELSS Fund/LIC MF Tax Plan(G).csv\n",
            "100865 , LIC MF Tax Plan(G).csv , (5466, 3)\n",
            "MF NAV DATA/ELSS Fund/Axis Long Term Equity Fund-Reg(G).csv\n",
            "112323 , Axis Long Term Equity Fund-Reg(G).csv , (2570, 3)\n",
            "MF NAV DATA/ELSS Fund/Essel Long Term Advantage Fund-Reg(G).csv\n",
            "135655 , Essel Long Term Advantage Fund-Reg(G).csv , (1093, 3)\n",
            "MF NAV DATA/ELSS Fund/DSP Tax Saver Fund-Reg(G).csv\n",
            "104772 , DSP Tax Saver Fund-Reg(G).csv , (3291, 3)\n",
            "MF NAV DATA/ELSS Fund/Edelweiss Tax Advantage Fund-Reg(G).csv\n",
            "140238 , Edelweiss Tax Advantage Fund-Reg(G).csv , (2726, 3)\n",
            "MF NAV DATA/ELSS Fund/Shriram Long Term Equity Fund-Reg(G).csv\n",
            "145820 , Shriram Long Term Equity Fund-Reg(G).csv , (331, 3)\n",
            "MF NAV DATA/ELSS Fund/BOI AXA Tax Advantage-Eco(G).csv\n",
            "111709 , BOI AXA Tax Advantage-Eco(G).csv , (2775, 3)\n",
            "MF NAV DATA/ELSS Fund/Aditya Birla SL Tax Savings Fund(G).csv\n",
            "131736 , Aditya Birla SL Tax Savings Fund(G).csv , (3487, 3)\n",
            "MF NAV DATA/ELSS Fund/Sundaram Diversified Equity(G).csv\n",
            "101853 , Sundaram Diversified Equity(G).csv , (3712, 3)\n",
            "MF NAV DATA/ELSS Fund/Taurus Tax Shield Fund-Reg(G).csv\n",
            "100480 , Taurus Tax Shield Fund-Reg(G).csv , (5237, 3)\n",
            "MF NAV DATA/ELSS Fund/Principal Personal Tax saver Fund.csv\n",
            "101815 , Principal Personal Tax saver Fund.csv , (6685, 3)\n",
            "MF NAV DATA/ELSS Fund/Baroda ELSS 96(G).csv\n",
            "134044 , Baroda ELSS 96(G).csv , (1298, 3)\n",
            "MF NAV DATA/ELSS Fund/Franklin India Taxshield(G).csv\n",
            "100526 , Franklin India Taxshield(G).csv , (5198, 3)\n",
            "MF NAV DATA/MNC Fund/Aditya Birla SL MNC Fund-Reg(G).csv\n",
            "100064 , Aditya Birla SL MNC Fund-Reg(G).csv , (5249, 3)\n",
            "MF NAV DATA/MNC Fund/ICICI Pru MNC Fund(G).csv\n",
            "147345 , ICICI Pru MNC Fund(G).csv , (241, 3)\n",
            "MF NAV DATA/MNC Fund/SBI Magnum Global Fund-Reg(G).csv\n",
            "103034 , SBI Magnum Global Fund-Reg(G).csv , (5278, 3)\n",
            "MF NAV DATA/MNC Fund/UTI MNC Fund-Reg(G).csv\n",
            "100740 , UTI MNC Fund-Reg(G).csv , (5201, 3)\n",
            "MF NAV DATA/Midcap Fund/Union Midcap Fund-Reg(G).csv\n",
            "148071 , Union Midcap Fund-Reg(G).csv , (49, 3)\n",
            "MF NAV DATA/Midcap Fund/Franklin India Prima Fund(G).csv\n",
            "100473 , Franklin India Prima Fund(G).csv , (6464, 3)\n",
            "MF NAV DATA/Midcap Fund/ICICI Pru Midcap Fund(G).csv\n",
            "102528 , ICICI Pru Midcap Fund(G).csv , (3845, 3)\n",
            "MF NAV DATA/Midcap Fund/PGIM India Midcap Opp Fund-Reg(G).csv\n",
            "125305 , PGIM India Midcap Opp Fund-Reg(G).csv , (1602, 3)\n",
            "MF NAV DATA/Midcap Fund/IDBI Midcap Fund(G).csv\n",
            "140460 , IDBI Midcap Fund(G).csv , (824, 3)\n",
            "MF NAV DATA/Midcap Fund/BNP Paribas Mid Cap Fund(G).csv\n",
            "113566 , BNP Paribas Mid Cap Fund(G).csv , (3469, 3)\n",
            "MF NAV DATA/Midcap Fund/SBI Magnum Midcap Fund-Reg(G).csv\n",
            "102941 , SBI Magnum Midcap Fund-Reg(G).csv , (3714, 3)\n",
            "MF NAV DATA/Midcap Fund/Taurus Discovery (Midcap) Fund-Reg(G).csv\n",
            "100477 , Taurus Discovery (Midcap) Fund-Reg(G).csv , (5339, 3)\n",
            "MF NAV DATA/Midcap Fund/Mahindra Manulife Mid Cap Unnati Yojana-Reg(G).csv\n",
            "142109 , Mahindra Manulife Mid Cap Unnati Yojana-Reg(G).csv , (575, 3)\n",
            "MF NAV DATA/Midcap Fund/Nippon India Growth Fund(G).csv\n",
            "100377 , Nippon India Growth Fund(G).csv , (6272, 3)\n",
            "MF NAV DATA/Midcap Fund/Axis Midcap Fund-Reg(G).csv\n",
            "114564 , Axis Midcap Fund-Reg(G).csv , (2283, 3)\n",
            "MF NAV DATA/Midcap Fund/DSP Midcap Fund-Reg(G).csv\n",
            "104481 , DSP Midcap Fund-Reg(G).csv , (3337, 3)\n",
            "MF NAV DATA/Midcap Fund/L&T Midcap Fund-Reg(G).csv\n",
            "112496 , L&T Midcap Fund-Reg(G).csv , (3897, 3)\n",
            "MF NAV DATA/Midcap Fund/Tata Mid Cap Growth Fund(G).csv\n",
            "102328 , Tata Mid Cap Growth Fund(G).csv , (4425, 3)\n",
            "MF NAV DATA/Midcap Fund/Baroda Mid-cap Fund(G).csv\n",
            "113327 , Baroda Mid-cap Fund(G).csv , (2378, 3)\n",
            "MF NAV DATA/Midcap Fund/Motilal Oswal Midcap 30 Fund-Reg(G).csv\n",
            "127039 , Motilal Oswal Midcap 30 Fund-Reg(G).csv , (1542, 3)\n",
            "MF NAV DATA/Midcap Fund/HDFC Mid-Cap Opportunities Fund(G).csv\n",
            "105758.0 , HDFC Mid-Cap Opportunities Fund(G).csv , (3189, 3)\n",
            "MF NAV DATA/Midcap Fund/Invesco India Midcap Fund(G).csv\n",
            "105503 , Invesco India Midcap Fund(G).csv , (3226, 3)\n",
            "MF NAV DATA/Midcap Fund/Kotak Emerging Equity Fund(G).csv\n",
            "104908 , Kotak Emerging Equity Fund(G).csv , (3247, 3)\n",
            "MF NAV DATA/Midcap Fund/UTI Mid Cap Fund-Reg(G).csv\n",
            "102394 , UTI Mid Cap Fund-Reg(G).csv , (3649, 3)\n",
            "MF NAV DATA/Midcap Fund/Mirae Asset Midcap Fund-Reg(G).csv\n",
            "147479 , Mirae Asset Midcap Fund-Reg(G).csv , (211, 3)\n",
            "MF NAV DATA/Midcap Fund/Edelweiss Mid Cap Fund-Reg(G).csv\n",
            "140225 , Edelweiss Mid Cap Fund-Reg(G).csv , (3060, 3)\n",
            "MF NAV DATA/Midcap Fund/Aditya Birla SL Midcap Fund(G).csv\n",
            "101592 , Aditya Birla SL Midcap Fund(G).csv , (4354, 3)\n",
            "MF NAV DATA/Midcap Fund/Quant Mid Cap Fund(G).csv\n",
            "101065 , Quant Mid Cap Fund(G).csv , (4685, 3)\n",
            "MF NAV DATA/Midcap Fund/Principal Midcap Fund-Reg(G).csv\n",
            "147779 , Principal Midcap Fund-Reg(G).csv , (111, 3)\n",
            "MF NAV DATA/Midcap Fund/Sundaram Mid Cap Fund(G).csv\n",
            "101539 , Sundaram Mid Cap Fund(G).csv , (5091, 3)\n",
            "MF NAV DATA/Value Fund/Tata Equity PE Fund(G).csv\n",
            "101672 , Tata Equity PE Fund(G).csv , (3928, 3)\n",
            "MF NAV DATA/Value Fund/Aditya Birla SL Pure Value Fund(G).csv\n",
            "108167 , Aditya Birla SL Pure Value Fund(G).csv , (2997, 3)\n",
            "MF NAV DATA/Value Fund/JM Value Fund(G).csv\n",
            "100254 , JM Value Fund(G).csv , (5802, 3)\n",
            "MF NAV DATA/Value Fund/Union Value Discovery Fund-Reg(G).csv\n",
            "145471 , Union Value Discovery Fund-Reg(G).csv , (367, 3)\n",
            "MF NAV DATA/Value Fund/Quantum Long Term Equity Value Fund-Reg(G).csv\n",
            "141068 , Quantum Long Term Equity Value Fund-Reg(G).csv , (4822, 3)\n",
            "MF NAV DATA/Value Fund/HDFC Capital Builder Value Fund(G).csv\n",
            "101764 , HDFC Capital Builder Value Fund(G).csv , (6421, 3)\n",
            "MF NAV DATA/Value Fund/Templeton India Value Fund(G).csv\n",
            "100496 , Templeton India Value Fund(G).csv , (4229, 3)\n",
            "MF NAV DATA/Value Fund/IDFC Sterling Value Fund-Reg(G).csv\n",
            "108909 , IDFC Sterling Value Fund-Reg(G).csv , (2728, 3)\n",
            "MF NAV DATA/Value Fund/L&T India Value Fund-Reg(G).csv\n",
            "118102 , L&T India Value Fund-Reg(G).csv , (2565, 3)\n",
            "MF NAV DATA/Value Fund/ICICI Pru Value Discovery Fund(G).csv\n",
            "102594 , ICICI Pru Value Discovery Fund(G).csv , (3897, 3)\n",
            "MF NAV DATA/Value Fund/UTI Value Opp Fund-Reg(G).csv\n",
            "103098 , UTI Value Opp Fund-Reg(G).csv , (3644, 3)\n",
            "MF NAV DATA/Value Fund/SBI Magnum Global Fund-Reg(G).csv\n",
            "103034 , SBI Magnum Global Fund-Reg(G).csv , (5278, 3)\n",
            "MF NAV DATA/Value Fund/IDBI Long Term Value Fund-Reg(G).csv\n",
            "144453 , IDBI Long Term Value Fund-Reg(G).csv , (436, 3)\n",
            "MF NAV DATA/Value Fund/Nippon India Value Fund(G).csv\n",
            "103085 , Nippon India Value Fund(G).csv , (3788, 3)\n",
            "MF NAV DATA/Value Fund/Indiabulls Value Fund-Reg(G).csv\n",
            "135343 , Indiabulls Value Fund-Reg(G).csv , (1168, 3)\n",
            "MF NAV DATA/Value Fund/UTI MNC Fund-Reg(G).csv\n",
            "100740 , UTI MNC Fund-Reg(G).csv , (5201, 3)\n",
            "MF NAV DATA/Largecap Fund/Taurus Largecap Equity Fund(G).csv\n",
            "101209 , Taurus Largecap Equity Fund(G).csv , (4932, 3)\n",
            "MF NAV DATA/Largecap Fund/Tata Large Cap Fund(G).csv\n",
            "100475 , Tata Large Cap Fund(G).csv , (5430, 3)\n",
            "MF NAV DATA/Largecap Fund/Canara Rob Bluechip Equity Fund-Reg(G).csv\n",
            "113221 , Canara Rob Bluechip Equity Fund-Reg(G).csv , (2410, 3)\n",
            "MF NAV DATA/Largecap Fund/DSP Top 100 Equity Fund-Reg(G).csv\n",
            "101635 , DSP Top 100 Equity Fund-Reg(G).csv , (4257, 3)\n",
            "MF NAV DATA/Largecap Fund/SBI BlueChip Fund-Reg(G).csv\n",
            "103504 , SBI BlueChip Fund-Reg(G).csv , (3507, 3)\n",
            "MF NAV DATA/Largecap Fund/Edelweiss Large Cap Fund(G).csv\n",
            "111940 , Edelweiss Large Cap Fund(G).csv , (2725, 3)\n",
            "MF NAV DATA/Largecap Fund/IDFC Large Cap Fund-Reg(G).csv\n",
            "108799 , IDFC Large Cap Fund-Reg(G).csv , (2876, 3)\n",
            "MF NAV DATA/Largecap Fund/UTI Mastershare-Reg(G).csv\n",
            "100651 , UTI Mastershare-Reg(G).csv , (3646, 3)\n",
            "MF NAV DATA/Largecap Fund/Union Largecap Fund-Reg(G).csv\n",
            "141247 , Union Largecap Fund-Reg(G).csv , (754, 3)\n",
            "MF NAV DATA/Largecap Fund/Nippon India Large Cap Fund(G).csv\n",
            "106235 , Nippon India Large Cap Fund(G).csv , (3156, 3)\n",
            "MF NAV DATA/Largecap Fund/LIC MF Large Cap Fund(G).csv\n",
            "106871 , LIC MF Large Cap Fund(G).csv , (5466, 3)\n",
            "MF NAV DATA/Largecap Fund/Mahindra Manulife Large Cap Pragati Yojana-Reg(G).csv\n",
            "146551.0 , Mahindra Manulife Large Cap Pragati Yojana-Reg(G).csv , (311, 3)\n",
            "MF NAV DATA/Largecap Fund/Mirae Asset Large Cap Fund-Reg(G).csv\n",
            "107578 , Mirae Asset Large Cap Fund-Reg(G).csv , (2982, 3)\n",
            "MF NAV DATA/Largecap Fund/L&T India Large Cap Fund-Reg(G).csv\n",
            "118069 , L&T India Large Cap Fund-Reg(G).csv , (3101, 3)\n",
            "MF NAV DATA/Largecap Fund/IDBI India Top 100 Equity Fund(G).csv\n",
            "117311 , IDBI India Top 100 Equity Fund(G).csv , (1979, 3)\n",
            "MF NAV DATA/Largecap Fund/Aditya Birla SL Frontline Equity Fund(G).csv\n",
            "103174 , Aditya Birla SL Frontline Equity Fund(G).csv , (4368, 3)\n",
            "MF NAV DATA/Largecap Fund/Indiabulls Blue Chip Fund(G).csv\n",
            "116547 , Indiabulls Blue Chip Fund(G).csv , (2045, 3)\n",
            "MF NAV DATA/Largecap Fund/JM Large Cap Fund(G).csv\n",
            "100219 , JM Large Cap Fund(G).csv , (5971, 3)\n",
            "MF NAV DATA/Largecap Fund/HSBC Large Cap Equity Fund(G).csv\n",
            "101594 , HSBC Large Cap Equity Fund(G).csv , (4302, 3)\n",
            "MF NAV DATA/Largecap Fund/Invesco India Largecap Fund(G).csv\n",
            "112098 , Invesco India Largecap Fund(G).csv , (2654, 3)\n",
            "MF NAV DATA/Largecap Fund/Essel Large Cap Equity Fund(G).csv\n",
            "115790 , Essel Large Cap Equity Fund(G).csv , (2135, 3)\n",
            "MF NAV DATA/Largecap Fund/Franklin India Bluechip Fund(G).csv\n",
            "100471 , Franklin India Bluechip Fund(G).csv , (6549, 3)\n",
            "MF NAV DATA/Largecap Fund/Kotak Bluechip Fund(G).csv\n",
            "114458 , Kotak Bluechip Fund(G).csv , (4284, 3)\n",
            "MF NAV DATA/Largecap Fund/Baroda Large Cap Fund(G).csv\n",
            "112943 , Baroda Large Cap Fund(G).csv , (2455, 3)\n",
            "MF NAV DATA/Largecap Fund/BNP Paribas Large Cap Fund(G).csv\n",
            "113544 , BNP Paribas Large Cap Fund(G).csv , (3864, 3)\n",
            "MF NAV DATA/Largecap Fund/PGIM India Large Cap Fund(G).csv\n",
            "138308 , PGIM India Large Cap Fund(G).csv , (4278, 3)\n",
            "MF NAV DATA/Largecap Fund/ICICI Pru Bluechip Fund(G).csv\n",
            "108466 , ICICI Pru Bluechip Fund(G).csv , (2961, 3)\n",
            "MF NAV DATA/Largecap Fund/HDFC Top 100 Fund(G).csv\n",
            "102000 , HDFC Top 100 Fund(G).csv , (5997, 3)\n",
            "MF NAV DATA/Largecap Fund/Axis Bluechip Fund-Reg(G).csv\n",
            "112277 , Axis Bluechip Fund-Reg(G).csv , (2567, 3)\n",
            "MF NAV DATA/Multicap Fund/HDFC Equity Fund(G).csv\n",
            "101762 , HDFC Equity Fund(G).csv , (6235, 3)\n",
            "MF NAV DATA/Multicap Fund/Axis Multicap Fund-Reg(G).csv\n",
            "141927 , Axis Multicap Fund-Reg(G).csv , (625, 3)\n",
            "MF NAV DATA/Multicap Fund/Motilal Oswal Multicap 35 Fund-Reg(G).csv\n",
            "129048 , Motilal Oswal Multicap 35 Fund-Reg(G).csv , (1503, 3)\n",
            "MF NAV DATA/Multicap Fund/LIC MF Multi Cap Fund(G).csv\n",
            "100313 , LIC MF Multi Cap Fund(G).csv , (5466, 3)\n",
            "MF NAV DATA/Multicap Fund/Shriram Multicap Fund-Reg(G).csv\n",
            "144902 , Shriram Multicap Fund-Reg(G).csv , (410, 3)\n",
            "MF NAV DATA/Multicap Fund/BNP Paribas Multi Cap Fund(G).csv\n",
            "113460 , BNP Paribas Multi Cap Fund(G).csv , (3618, 3)\n",
            "MF NAV DATA/Multicap Fund/ITI Multi-Cap Fund-Reg(G).csv\n",
            "147184 , ITI Multi-Cap Fund-Reg(G).csv , (263, 3)\n",
            "MF NAV DATA/Multicap Fund/Aditya Birla SL Equity Fund(G).csv\n",
            "103166 , Aditya Birla SL Equity Fund(G).csv , (5364, 3)\n",
            "MF NAV DATA/Multicap Fund/Sundaram Equity Fund-Reg(G).csv\n",
            "147584 , Sundaram Equity Fund-Reg(G).csv , (184, 3)\n",
            "MF NAV DATA/Multicap Fund/Taurus Starshare (Multi Cap) Fund-Reg(G).csv\n",
            "100476 , Taurus Starshare (Multi Cap) Fund-Reg(G).csv , (5339, 3)\n",
            "MF NAV DATA/Multicap Fund/Union Multi Cap Fund-Reg(G).csv\n",
            "115270 , Union Multi Cap Fund-Reg(G).csv , (2206, 3)\n",
            "MF NAV DATA/Multicap Fund/Invesco India Multicap Fund(G).csv\n",
            "107353 , Invesco India Multicap Fund(G).csv , (2998, 3)\n",
            "MF NAV DATA/Multicap Fund/Principal Multi Cap Growth Fund(G).csv\n",
            "100967 , Principal Multi Cap Growth Fund(G).csv , (4799, 3)\n",
            "MF NAV DATA/Multicap Fund/Essel Multi Cap Fund-Reg(G).csv\n",
            "143787 , Essel Multi Cap Fund-Reg(G).csv , (469, 3)\n",
            "MF NAV DATA/Multicap Fund/Canara Rob Equity Diver Fund-Reg(G).csv\n",
            "101922 , Canara Rob Equity Diver Fund-Reg(G).csv , (4101, 3)\n",
            "MF NAV DATA/Multicap Fund/Mahindra Manulife Multi Cap Badhat Yojana-Reg(G).csv\n",
            "141224 , Mahindra Manulife Multi Cap Badhat Yojana-Reg(G).csv , (755, 3)\n",
            "MF NAV DATA/Multicap Fund/IDFC Multi Cap Fund-Reg(G).csv\n",
            "108594 , IDFC Multi Cap Fund-Reg(G).csv , (3611, 3)\n",
            "MF NAV DATA/Multicap Fund/Edelweiss Multi-Cap Fund-Reg(G).csv\n",
            "140355 , Edelweiss Multi-Cap Fund-Reg(G).csv , (1317, 3)\n",
            "MF NAV DATA/Multicap Fund/IDBI Diversified Equity Fund(G).csv\n",
            "128235 , IDBI Diversified Equity Fund(G).csv , (1515, 3)\n",
            "MF NAV DATA/Multicap Fund/JM Multicap Fund(G).csv\n",
            "109522 , JM Multicap Fund(G).csv , (2873, 3)\n",
            "MF NAV DATA/Multicap Fund/Franklin India Equity Fund(G).csv\n",
            "100520 , Franklin India Equity Fund(G).csv , (6232, 3)\n",
            "MF NAV DATA/Multicap Fund/Parag Parikh Long Term Equity Fund-Reg(G).csv\n",
            "122640 , Parag Parikh Long Term Equity Fund-Reg(G).csv , (1727, 3)\n",
            "MF NAV DATA/Multicap Fund/Nippon India Multi Cap Fund(G).csv\n",
            "101161 , Nippon India Multi Cap Fund(G).csv , (3852, 3)\n",
            "MF NAV DATA/Multicap Fund/HSBC Multi Cap Equity Fund(G).csv\n",
            "102252 , HSBC Multi Cap Equity Fund(G).csv , (4007, 3)\n",
            "MF NAV DATA/Multicap Fund/Baroda Multi Cap Fund(G).csv\n",
            "102020 , Baroda Multi Cap Fund(G).csv , (4110, 3)\n",
            "MF NAV DATA/Multicap Fund/Kotak Standard Multicap Fund(G).csv\n",
            "112090 , Kotak Standard Multicap Fund(G).csv , (2643, 3)\n",
            "MF NAV DATA/Multicap Fund/DSP Equity Fund-Reg(G).csv\n",
            "105875 , DSP Equity Fund-Reg(G).csv , (3200, 3)\n",
            "MF NAV DATA/Multicap Fund/Quant Active Fund(G).csv\n",
            "100631 , Quant Active Fund(G).csv , (4693, 3)\n",
            "MF NAV DATA/Multicap Fund/ICICI Pru Multicap Fund(G).csv\n",
            "101228 , ICICI Pru Multicap Fund(G).csv , (5631, 3)\n",
            "MF NAV DATA/Multicap Fund/L&T Equity Fund-Reg(G).csv\n",
            "118043 , L&T Equity Fund-Reg(G).csv , (3706, 3)\n",
            "MF NAV DATA/Multicap Fund/UTI Equity Fund-Reg(G).csv\n",
            "100669 , UTI Equity Fund-Reg(G).csv , (3646, 3)\n",
            "MF NAV DATA/Multicap Fund/Tata Multicap Fund-Reg(G).csv\n",
            "144548 , Tata Multicap Fund-Reg(G).csv , (427, 3)\n",
            "MF NAV DATA/Multicap Fund/PGIM India Diversified Equity Fund-Reg(G).csv\n",
            "133836 , PGIM India Diversified Equity Fund-Reg(G).csv , (1298, 3)\n",
            "MF NAV DATA/Multicap Fund/SBI Magnum Multicap Fund-Reg(G).csv\n",
            "103215 , SBI Magnum Multicap Fund-Reg(G).csv , (3588, 3)\n"
          ],
          "name": "stdout"
        }
      ]
    },
    {
      "cell_type": "code",
      "metadata": {
        "id": "1KL5-9NBLHgM",
        "colab_type": "code",
        "colab": {
          "base_uri": "https://localhost:8080/",
          "height": 419
        },
        "outputId": "70dec013-77aa-4f69-ad39-df6d088f7e4a"
      },
      "source": [
        "dfList[0]"
      ],
      "execution_count": null,
      "outputs": [
        {
          "output_type": "execute_result",
          "data": {
            "text/html": [
              "<div>\n",
              "<style scoped>\n",
              "    .dataframe tbody tr th:only-of-type {\n",
              "        vertical-align: middle;\n",
              "    }\n",
              "\n",
              "    .dataframe tbody tr th {\n",
              "        vertical-align: top;\n",
              "    }\n",
              "\n",
              "    .dataframe thead th {\n",
              "        text-align: right;\n",
              "    }\n",
              "</style>\n",
              "<table border=\"1\" class=\"dataframe\">\n",
              "  <thead>\n",
              "    <tr style=\"text-align: right;\">\n",
              "      <th></th>\n",
              "      <th>amfi</th>\n",
              "      <th>date</th>\n",
              "      <th>price</th>\n",
              "    </tr>\n",
              "  </thead>\n",
              "  <tbody>\n",
              "    <tr>\n",
              "      <th>0</th>\n",
              "      <td>111957</td>\n",
              "      <td>2009-06-02</td>\n",
              "      <td>10.00</td>\n",
              "    </tr>\n",
              "    <tr>\n",
              "      <th>1</th>\n",
              "      <td>111957</td>\n",
              "      <td>2009-06-03</td>\n",
              "      <td>10.13</td>\n",
              "    </tr>\n",
              "    <tr>\n",
              "      <th>2</th>\n",
              "      <td>111957</td>\n",
              "      <td>2009-06-04</td>\n",
              "      <td>10.16</td>\n",
              "    </tr>\n",
              "    <tr>\n",
              "      <th>3</th>\n",
              "      <td>111957</td>\n",
              "      <td>2009-06-05</td>\n",
              "      <td>10.19</td>\n",
              "    </tr>\n",
              "    <tr>\n",
              "      <th>4</th>\n",
              "      <td>111957</td>\n",
              "      <td>2009-06-08</td>\n",
              "      <td>10.13</td>\n",
              "    </tr>\n",
              "    <tr>\n",
              "      <th>...</th>\n",
              "      <td>...</td>\n",
              "      <td>...</td>\n",
              "      <td>...</td>\n",
              "    </tr>\n",
              "    <tr>\n",
              "      <th>2711</th>\n",
              "      <td>111957</td>\n",
              "      <td>2020-06-05</td>\n",
              "      <td>28.20</td>\n",
              "    </tr>\n",
              "    <tr>\n",
              "      <th>2712</th>\n",
              "      <td>111957</td>\n",
              "      <td>2020-06-08</td>\n",
              "      <td>28.30</td>\n",
              "    </tr>\n",
              "    <tr>\n",
              "      <th>2713</th>\n",
              "      <td>111957</td>\n",
              "      <td>2020-06-09</td>\n",
              "      <td>28.10</td>\n",
              "    </tr>\n",
              "    <tr>\n",
              "      <th>2714</th>\n",
              "      <td>111957</td>\n",
              "      <td>2020-06-10</td>\n",
              "      <td>28.18</td>\n",
              "    </tr>\n",
              "    <tr>\n",
              "      <th>2715</th>\n",
              "      <td>111957</td>\n",
              "      <td>2020-06-11</td>\n",
              "      <td>27.71</td>\n",
              "    </tr>\n",
              "  </tbody>\n",
              "</table>\n",
              "<p>2716 rows × 3 columns</p>\n",
              "</div>"
            ],
            "text/plain": [
              "        amfi       date  price\n",
              "0     111957 2009-06-02  10.00\n",
              "1     111957 2009-06-03  10.13\n",
              "2     111957 2009-06-04  10.16\n",
              "3     111957 2009-06-05  10.19\n",
              "4     111957 2009-06-08  10.13\n",
              "...      ...        ...    ...\n",
              "2711  111957 2020-06-05  28.20\n",
              "2712  111957 2020-06-08  28.30\n",
              "2713  111957 2020-06-09  28.10\n",
              "2714  111957 2020-06-10  28.18\n",
              "2715  111957 2020-06-11  27.71\n",
              "\n",
              "[2716 rows x 3 columns]"
            ]
          },
          "metadata": {
            "tags": []
          },
          "execution_count": 8
        }
      ]
    }
  ]
}